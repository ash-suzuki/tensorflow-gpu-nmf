{
 "cells": [
  {
   "cell_type": "code",
   "execution_count": 1,
   "metadata": {
    "collapsed": true
   },
   "outputs": [],
   "source": [
    "import os\n",
    "os.environ[\"CUDA_VISIBLE_DEVICES\"] = \"-1\""
   ]
  },
  {
   "cell_type": "code",
   "execution_count": 2,
   "metadata": {
    "collapsed": true
   },
   "outputs": [],
   "source": [
    "# -*- coding: utf-8 -*-\n",
    "from __future__ import division\n",
    "import numpy as np\n",
    "import tensorflow as tf\n",
    "\n",
    "class TFNMF(object):\n",
    "    \"\"\"Non-negative Matrix Factorization by TensorFlow\"\"\"\n",
    "    def __init__(self, V, rank):\n",
    "\n",
    "        #Numpy行列からTensorFlowのTensorに変換\n",
    "        V_ = tf.constant(V, dtype=tf.float32)\n",
    "        shape = V.shape\n",
    "\n",
    "        #平均 sqrt(V.mean() / rank) の一様乱数にスケール\n",
    "        scale = 2 * np.sqrt(V.mean() / rank)\n",
    "        initializer = tf.random_uniform_initializer(maxval=scale)\n",
    "\n",
    "        #行列H,Wの変数生成\n",
    "        self.H = H = tf.get_variable(\"H\", [rank, shape[1]],\n",
    "                                     initializer=initializer)\n",
    "        self.W = W = tf.get_variable(name=\"W\", shape=[shape[0], rank],\n",
    "                                     initializer=initializer)\n",
    "\n",
    "        #収束判定のためにWを保存する\n",
    "        W_old = tf.get_variable(name=\"W_old\", shape=[shape[0], rank])\n",
    "        self._save_W = W_old.assign(W)\n",
    "\n",
    "        #MUアルゴリズム\n",
    "        #Hを更新する\n",
    "        Wt = tf.transpose(W)\n",
    "        WV = tf.matmul(Wt, V_)\n",
    "        WWH = tf.matmul(tf.matmul(Wt, W), H)\n",
    "        WV_WWH = WV / WWH\n",
    "#         with tf.device('/cpu:0'):\n",
    "#             #0割りでnanが入った要素を0に変換する\n",
    "#             WV_WWH = tf.select(tf.is_nan(WV_WWH),\n",
    "#                               tf.zeros_like(WV_WWH),\n",
    "#                               WV_WWH)\n",
    "        H_new = H * WV_WWH\n",
    "        self._update_H = H.assign(H_new)\n",
    "\n",
    "        #Wを更新する(Hは更新済み)\n",
    "        Ht = tf.transpose(H)\n",
    "        VH = tf.matmul(V_, Ht)\n",
    "        WHH = tf.matmul(W, tf.matmul(H, Ht))\n",
    "        VH_WHH = VH / WHH\n",
    "#         with tf.device('/cpu:0'):\n",
    "#             #0割りでnanが入った要素を0に変換する\n",
    "#             WV_WWH = tf.select(tf.is_nan(WV_WWH),\n",
    "#                               tf.zeros_like(WV_WWH),\n",
    "#                               WV_WWH)\n",
    "        W_new = W * VH_WHH\n",
    "        self._update_W = W.assign(W_new)\n",
    "\n",
    "        #Wの各要素の変化総量\n",
    "        self._delta = tf.reduce_sum(tf.abs(W_old - W))\n",
    "\n",
    "    def run(self, sess, max_iter=100):\n",
    "        tf.initialize_all_variables().run()\n",
    "        for i in range(max_iter):\n",
    "            sess.run(self._save_W)\n",
    "            H, _ = sess.run([self.H, self._update_H])\n",
    "            W, _ = sess.run([self.W, self._update_W])\n",
    "            delta = sess.run(self._delta)\n",
    "            if delta < 0.001:\n",
    "                break\n",
    "        return W, H"
   ]
  },
  {
   "cell_type": "code",
   "execution_count": 3,
   "metadata": {},
   "outputs": [
    {
     "name": "stdout",
     "output_type": "stream",
     "text": [
      "WARNING:tensorflow:From /mnt/ebsb/anaconda3/envs/tf/lib/python3.6/site-packages/tensorflow/python/util/tf_should_use.py:170: initialize_all_variables (from tensorflow.python.ops.variables) is deprecated and will be removed after 2017-03-02.\n",
      "Instructions for updating:\n",
      "Use `tf.global_variables_initializer` instead.\n",
      "Computational Time:  612.3173954486847\n",
      "Reconstruction Error:  8182436.35589\n"
     ]
    }
   ],
   "source": [
    "import time\n",
    "V = np.random.rand(10000,10000)\n",
    "rank = 1000\n",
    "num_core = 8\n",
    "\n",
    "tfnmf = TFNMF(V, rank)\n",
    "config = tf.ConfigProto(inter_op_parallelism_threads=num_core,\n",
    "                       intra_op_parallelism_threads=num_core)\n",
    "with tf.Session(config=config) as sess:\n",
    "    start = time.time()\n",
    "    W, H = tfnmf.run(sess)\n",
    "    print(\"Computational Time: \", time.time() - start)\n",
    "\n",
    "#２乗誤差計算\n",
    "W = np.mat(W)\n",
    "H = np.mat(H)\n",
    "error = np.power(V - W * H, 2).sum()\n",
    "print(\"Reconstruction Error: \", error)"
   ]
  },
  {
   "cell_type": "code",
   "execution_count": null,
   "metadata": {
    "collapsed": true
   },
   "outputs": [],
   "source": []
  }
 ],
 "metadata": {
  "kernelspec": {
   "display_name": "Python 3",
   "language": "python",
   "name": "python3"
  },
  "language_info": {
   "codemirror_mode": {
    "name": "ipython",
    "version": 3
   },
   "file_extension": ".py",
   "mimetype": "text/x-python",
   "name": "python",
   "nbconvert_exporter": "python",
   "pygments_lexer": "ipython3",
   "version": "3.6.1"
  }
 },
 "nbformat": 4,
 "nbformat_minor": 2
}
